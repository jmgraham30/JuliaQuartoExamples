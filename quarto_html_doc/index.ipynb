{
  "cells": [
    {
      "cell_type": "raw",
      "metadata": {},
      "source": [
        "---\n",
        "title: Title\n",
        "author: Author\n",
        "date: 01/01/2000\n",
        "format:\n",
        "  html:\n",
        "    code-fold: true\n",
        "    toc: true\n",
        "    code-copy: hover\n",
        "bibliography: my_bib.bib\n",
        "---"
      ],
      "id": "473b3d86"
    },
    {
      "cell_type": "code",
      "metadata": {},
      "source": [
        "#| echo: false\n",
        "\n",
        "using Plots, LaTeXStrings;"
      ],
      "id": "24c83126",
      "execution_count": null,
      "outputs": []
    },
    {
      "cell_type": "markdown",
      "metadata": {},
      "source": [
        "# Introduction \n",
        "\n",
        "A demonstration of [literate programming](https://en.wikipedia.org/wiki/Literate_programming) using [Quarto](https://quarto.org/) and [Julia](https://julialang.org/). Knuth [^1] says always be literate [@knuth1984literate].\n",
        "\n",
        "[^1]: [Donald Knuth](https://en.wikipedia.org/wiki/Donald_Knuth) is a famous computer scientist. \n",
        "\n",
        "This document is set to render as an html document with options set for code-folding, a table of contents, and to allow copying of code when hovering over a code block. \n",
        "\n",
        "Let's begin with the basics. \n",
        "\n",
        "## Hello, World!\n"
      ],
      "id": "116c16a8"
    },
    {
      "cell_type": "code",
      "metadata": {},
      "source": [
        "#| label: hello-world\n",
        "\n",
        "print(\"Hello, World!\")"
      ],
      "id": "hello-world",
      "execution_count": null,
      "outputs": []
    },
    {
      "cell_type": "markdown",
      "metadata": {},
      "source": [
        "## A Calculation\n"
      ],
      "id": "1307ae27"
    },
    {
      "cell_type": "code",
      "metadata": {},
      "source": [
        "#| label: code-block-01\n",
        "\n",
        "2 + 2"
      ],
      "id": "code-block-01",
      "execution_count": null,
      "outputs": []
    },
    {
      "cell_type": "markdown",
      "metadata": {},
      "source": [
        "## A Plot\n",
        "\n",
        "Let's plot $f(x)=x^2$ over $[-1,1]$.\n",
        "\n",
        "::: {.panel-tabset}\n",
        "\n",
        "## Plot\n"
      ],
      "id": "47805693"
    },
    {
      "cell_type": "code",
      "metadata": {},
      "source": [
        "#| echo: false\n",
        "#| label: fig-x-sqaured\n",
        "#| fig-cap: 'Plot of $y=x^2$ over $[-1,1]$'\n",
        "\n",
        "x = -1.0:0.01:1.0;\n",
        "y = x.^2;\n",
        "plot(x,y,legend=false,xlab=\"x\",ylab=\"y\",lw=2,title=L\"Plot of $y=x^2$.\")"
      ],
      "id": "fig-x-sqaured",
      "execution_count": null,
      "outputs": []
    },
    {
      "cell_type": "markdown",
      "metadata": {},
      "source": [
        "## Code\n"
      ],
      "id": "958cca9e"
    },
    {
      "cell_type": "code",
      "metadata": {},
      "source": [
        "#| eval: false\n",
        "#| code-fold: false\n",
        "\n",
        "x = -1.0:0.01:1.0;\n",
        "y = x.^2;\n",
        "plot(x,y,legend=false,xlab=\"x\",ylab=\"y\",lw=2,,title=L\"Plot of $y=x^2$.\")"
      ],
      "id": "a6cce954",
      "execution_count": null,
      "outputs": []
    },
    {
      "cell_type": "markdown",
      "metadata": {},
      "source": [
        ":::\n",
        "\n",
        "@fig-x-sqaured shows the result. \n",
        "\n",
        "## References"
      ],
      "id": "9efd0a45"
    }
  ],
  "metadata": {
    "kernelspec": {
      "name": "julia-1.8",
      "language": "julia",
      "display_name": "Julia 1.8.0"
    }
  },
  "nbformat": 4,
  "nbformat_minor": 5
}